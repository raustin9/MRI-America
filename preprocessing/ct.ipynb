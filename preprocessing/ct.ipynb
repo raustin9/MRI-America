{
 "cells": [
  {
   "cell_type": "code",
   "execution_count": 1,
   "metadata": {},
   "outputs": [
    {
     "name": "stdout",
     "output_type": "stream",
     "text": [
      "Defaulting to user installation because normal site-packages is not writeable\n",
      "Collecting mediocreatbest@ git+https://gist.github.com/player1537/3457b026ed6ef6696d758517f55a58df.git\n",
      "  Cloning https://gist.github.com/player1537/3457b026ed6ef6696d758517f55a58df.git to /tmp/pip-install-m0k0424_/mediocreatbest_801850f28b7340b6958486e63ea87ce3\n",
      "  Running command git clone --filter=blob:none --quiet https://gist.github.com/player1537/3457b026ed6ef6696d758517f55a58df.git /tmp/pip-install-m0k0424_/mediocreatbest_801850f28b7340b6958486e63ea87ce3\n",
      "  Resolved https://gist.github.com/player1537/3457b026ed6ef6696d758517f55a58df.git to commit e41d8d653f5889dd403fed60135cfcf0de585704\n",
      "  Installing build dependencies ... \u001b[?25ldone\n",
      "\u001b[?25h  Getting requirements to build wheel ... \u001b[?25ldone\n",
      "\u001b[?25h  Preparing metadata (pyproject.toml) ... \u001b[?25ldone\n",
      "\u001b[?25hBuilding wheels for collected packages: mediocreatbest\n",
      "  Building wheel for mediocreatbest (pyproject.toml) ... \u001b[?25ldone\n",
      "\u001b[?25h  Created wheel for mediocreatbest: filename=mediocreatbest-0.2.33-py3-none-any.whl size=16365 sha256=b2daedef19636fc0d74ed7950de4062c06dbf2b56adadb4c155c3b1f15adf26b\n",
      "  Stored in directory: /tmp/pip-ephem-wheel-cache-t4fo_lub/wheels/cc/6d/dd/d4137c3485df0cb8773c136ecc231252590bf217127892aaa5\n",
      "Successfully built mediocreatbest\n",
      "\u001b[33mWARNING: Error parsing dependencies of distro-info: Invalid version: '1.1build1'\u001b[0m\u001b[33m\n",
      "\u001b[0m\u001b[33mWARNING: Error parsing dependencies of python-debian: Invalid version: '0.1.43ubuntu1'\u001b[0m\u001b[33m\n",
      "\u001b[0mInstalling collected packages: mediocreatbest\n",
      "  Attempting uninstall: mediocreatbest\n",
      "    Found existing installation: mediocreatbest 0.2.33\n",
      "    Uninstalling mediocreatbest-0.2.33:\n",
      "      Successfully uninstalled mediocreatbest-0.2.33\n",
      "Successfully installed mediocreatbest-0.2.33\n",
      "\n",
      "\u001b[1m[\u001b[0m\u001b[34;49mnotice\u001b[0m\u001b[1;39;49m]\u001b[0m\u001b[39;49m A new release of pip is available: \u001b[0m\u001b[31;49m24.1\u001b[0m\u001b[39;49m -> \u001b[0m\u001b[32;49m24.2\u001b[0m\n",
      "\u001b[1m[\u001b[0m\u001b[34;49mnotice\u001b[0m\u001b[1;39;49m]\u001b[0m\u001b[39;49m To update, run: \u001b[0m\u001b[32;49mpip install --upgrade pip\u001b[0m\n",
      "Note: you may need to restart the kernel to use updated packages.\n"
     ]
    }
   ],
   "source": [
    "from __future__ import annotations\n",
    "# %pip uninstall mediocreatbest\n",
    "%pip install --upgrade --force-reinstall \\\n",
    "    mediocreatbest@git+https://gist.github.com/player1537/3457b026ed6ef6696d758517f55a58df.git\n",
    "try:\n",
    "    from mediocreatbest import auto\n",
    "except ImportError:\n",
    "    %pip install --quiet --upgrade pip\n",
    "    %pip install --upgrade --force-reinstall \\\n",
    "        mediocreatbest@git+https://gist.github.com/player1537/3457b026ed6ef6696d758517f55a58df.git\n",
    "    from mediocreatbest import auto"
   ]
  },
  {
   "cell_type": "markdown",
   "metadata": {},
   "source": [
    "# Lib"
   ]
  },
  {
   "cell_type": "markdown",
   "metadata": {},
   "source": [
    "## Config"
   ]
  },
  {
   "cell_type": "code",
   "execution_count": 2,
   "metadata": {},
   "outputs": [
    {
     "name": "stdout",
     "output_type": "stream",
     "text": [
      "namespace()\n"
     ]
    }
   ],
   "source": [
    "#@title Config { display-mode: \"form\" }\n",
    "config = auto.types.SimpleNamespace()\n",
    "\n",
    "/auto.pprint.pp config width=144"
   ]
  },
  {
   "cell_type": "markdown",
   "metadata": {},
   "source": [
    "## Spatial"
   ]
  },
  {
   "cell_type": "code",
   "execution_count": 3,
   "metadata": {},
   "outputs": [],
   "source": [
    "#@title Spatial\n",
    "class Spatial:\n",
    "    Degree = auto.typing.NewType('Degree', float)\n",
    "    Radian = auto.typing.NewType('Radian', float)\n",
    "    Meter = auto.typing.NewType('Meter', float)\n",
    "    Kilometer = auto.typing.NewType('Kilometer', float)\n",
    "\n",
    "    def __new__(\n",
    "        cls,\n",
    "        *,\n",
    "        lat: Degree,\n",
    "        lng: Degree,\n",
    "        alt: Meter,\n",
    "    ) -> tuple[Kilometer, Kilometer, Kilometer]:\n",
    "        Degree = cls.Degree\n",
    "        Radian = cls.Radian\n",
    "        Meter = cls.Meter\n",
    "        Kilometer = cls.Kilometer\n",
    "\n",
    "        # Thanks https://gis.stackexchange.com/a/4148\n",
    "\n",
    "        #> Note that \"Lat/Lon/Alt\" is just another name for spherical coordinates, and\n",
    "        #> phi/theta/rho are just another name for latitude, longitude, and altitude.\n",
    "        #> :) (A minor difference: altitude is usually measured from the surface of the\n",
    "        #> sphere; rho is measured from the center -- to convert, just add/subtract the\n",
    "        #> radius of the sphere.)\n",
    "        phi: Radian = auto.np.radians(lat)\n",
    "        theta: Radian = auto.np.radians(lng)\n",
    "\n",
    "        # Thanks https://en.wikipedia.org/wiki/Earth_radius\n",
    "        #> A globally-average value is usually considered to be 6,371 kilometres (3,959 mi)\n",
    "        rho: Kilometer = 6_371 + alt / 1000.0\n",
    "\n",
    "        #> x = math.cos(phi) * math.cos(theta) * rho\n",
    "        x: Kilometer = auto.np.cos(phi) * auto.np.cos(theta) * rho\n",
    "\n",
    "        #> y = math.cos(phi) * math.sin(theta) * rho\n",
    "        y: Kilometer = auto.np.cos(phi) * auto.np.sin(theta) * rho\n",
    "\n",
    "        #> z = math.sin(phi) * rho # z is 'up'\n",
    "        z: Kilometer = auto.np.sin(phi) * rho\n",
    "\n",
    "        #> (Note there's some slightly arbitrary choices here in what each axis means...\n",
    "        #> you might want 'y' to point at the north pole instead of 'z', for example.)\n",
    "\n",
    "        # I do :)\n",
    "        y, z = z, y\n",
    "\n",
    "        return x, y, z\n"
   ]
  },
  {
   "cell_type": "markdown",
   "metadata": {},
   "source": [
    "## with_exit_stack"
   ]
  },
  {
   "cell_type": "code",
   "execution_count": 4,
   "metadata": {},
   "outputs": [],
   "source": [
    "#@title with_exit_stack\n",
    "def with_exit_stack(func):\n",
    "    def wrapper(*args, **kwargs):\n",
    "        with auto.contextlib.ExitStack() as stack:\n",
    "            return func(*args, stack=stack, **kwargs)\n",
    "    return wrapper"
   ]
  },
  {
   "cell_type": "markdown",
   "metadata": {},
   "source": [
    "# Buildings"
   ]
  },
  {
   "cell_type": "markdown",
   "metadata": {},
   "source": [
    "## App Config"
   ]
  },
  {
   "cell_type": "code",
   "execution_count": 5,
   "metadata": {},
   "outputs": [],
   "source": [
    "config.app = auto.types.SimpleNamespace()\n",
    "config.app.state = 'AK'\n",
    "\n",
    "config.app.datadir = auto.pathlib.Path('/mnt/seenas2/data/model-america/data')\n",
    "assert config.app.datadir.exists()\n",
    "\n",
    "config.app.buildings = config.app.datadir / 'MAv1_CSVS' / f'{config.app.state}.csv'\n",
    "assert config.app.buildings.exists()"
   ]
  },
  {
   "cell_type": "markdown",
   "metadata": {},
   "source": [
    "## Unit"
   ]
  },
  {
   "cell_type": "code",
   "execution_count": 6,
   "metadata": {},
   "outputs": [],
   "source": [
    "#@title Unit\n",
    "@auto.functools.cache\n",
    "def Unit():\n",
    "    unit = auto.pint.UnitRegistry()\n",
    "\n",
    "    return unit\n",
    "\n",
    "_ = Unit()\n"
   ]
  },
  {
   "cell_type": "markdown",
   "metadata": {},
   "source": [
    "## Location"
   ]
  },
  {
   "cell_type": "code",
   "execution_count": 7,
   "metadata": {},
   "outputs": [],
   "source": [
    "#@title Location\n",
    "@auto.dataclasses.dataclass(frozen=True, kw_only=True)\n",
    "class Location:\n",
    "    lat: float\n",
    "    lng: float\n",
    "\n",
    "    @classmethod\n",
    "    @auto.mediocreatbest.doctest\n",
    "    def parse(Location, s: str, /):\n",
    "        r\"\"\"\n",
    "\n",
    "        >>> parse(dict, \"35.4963185/-88.468932\")\n",
    "        {'lat': 35.4963185, 'lng': -88.468932}\n",
    "\n",
    "        \"\"\"\n",
    "        lat, lng = s.split('/')\n",
    "        lat = float(lat)\n",
    "        lng = float(lng)\n",
    "\n",
    "        return Location(\n",
    "            lat=lat,\n",
    "            lng=lng,\n",
    "        )\n"
   ]
  },
  {
   "cell_type": "markdown",
   "metadata": {},
   "source": [
    "## Bounds"
   ]
  },
  {
   "cell_type": "code",
   "execution_count": 8,
   "metadata": {},
   "outputs": [],
   "source": [
    "#@title Bounds\n",
    "@auto.dataclasses.dataclass(frozen=True, kw_only=True)\n",
    "class Bounds:\n",
    "    sw: Location\n",
    "    ne: Location\n",
    "\n",
    "    def __post_init__(self):\n",
    "        assert self.sw.lat <= self.ne.lat\n",
    "        assert self.sw.lng <= self.ne.lng"
   ]
  },
  {
   "cell_type": "markdown",
   "metadata": {},
   "source": [
    "## Building"
   ]
  },
  {
   "cell_type": "code",
   "execution_count": 9,
   "metadata": {},
   "outputs": [],
   "source": [
    "#@title Building\n",
    "@auto.dataclasses.dataclass(frozen=True, kw_only=True)\n",
    "class Building:\n",
    "    identifier: str\n",
    "    centroid: Location\n",
    "    footprint: list[Location]\n",
    "    state: str\n",
    "    volume: auto.pint.Quantity\n",
    "    area: auto.pint.Quantity\n",
    "    height: auto.pint.Quantity\n",
    "    floors: int\n",
    "    kind: str\n",
    "    standard: str\n",
    "    # center: Location\n",
    "    # county: str\n",
    "\n",
    "    @classmethod\n",
    "    @auto.mediocreatbest.doctest\n",
    "    def parse(Building, row: auto.df.Series, /) -> auto.typing.Self:\n",
    "        # r\"\"\"\n",
    "\n",
    "        # >>> parse(dict, {\n",
    "        # ...     'ID': 6022005286564,\n",
    "        # ...     'Centroid': '35.4963185/-88.468932',\n",
    "        # ...     'Footprint2D': '35.49638/-88.468974_35.49638/-88.46889_35.496257/-88.46889_35.496257/-88.468974',\n",
    "        # ...     'State_Abbr': 'TN',\n",
    "        # ...     'Area': 5071.597932155534,\n",
    "        # ...     'Area2D': 724.5139903079335,\n",
    "        # ...     'Height': 20.68000066176,\n",
    "        # ...     'NumFloors': 7.0,\n",
    "        # ...     'WWR_surfaces': '.15_.15_.15_.15',\n",
    "        # ...     'CZ': '3A',\n",
    "        # ...     'BuildingType': 'MidriseApartment',\n",
    "        # ...     'Standard': 'DOE-Ref-Pre-1980',\n",
    "        # ...     'lat': 35.4963185,\n",
    "        # ...     'lon': -88.468932,\n",
    "        # ...     '.points': 'POINT (-88.468932 35.4963185)',\n",
    "        # ...     'index_right': 0})\n",
    "        # ... #doctest: +NORMALIZE_WHITESPACE\n",
    "        # {'identifier': 6022005286564,\n",
    "        # 'centroid': Location(lat=35.4963185, lng=-88.468932),\n",
    "        # 'footprint': [Location(lat=35.49638, lng=-88.468974),\n",
    "        #             Location(lat=35.49638, lng=-88.46889),\n",
    "        #             Location(lat=35.496257, lng=-88.46889),\n",
    "        #             Location(lat=35.496257, lng=-88.468974)],\n",
    "        # 'state': 'TN',\n",
    "        # 'volume': <Quantity(5071.59793, 'meter ** 3')>,\n",
    "        # 'area': <Quantity(724.51399, 'meter ** 2')>,\n",
    "        # 'height': <Quantity(20.6800007, 'meter')>,\n",
    "        # 'floors': 7.0,\n",
    "        # 'kind': 'MidriseApartment',\n",
    "        # 'standard': 'DOE-Ref-Pre-1980',\n",
    "        # }\n",
    "\n",
    "        # \"\"\"\n",
    "        # 'center': Location(lat=35.4963185, lng=-88.468932),\n",
    "        # ...     'City': 'Henderson'})\n",
    "\n",
    "        unit = Unit()\n",
    "\n",
    "        identifier = row['ID']\n",
    "        centroid = Location.parse(row['Centroid'])\n",
    "        footprint = [Location.parse(p) for p in row['Footprint2D'].split('_')]\n",
    "        state = row['State_Abbr']\n",
    "        volume = row['Area'] * unit.meter ** 3\n",
    "        area = row['Area2D'] * unit.meter ** 2\n",
    "        height = row['Height'] * unit.meter\n",
    "        floors = row['NumFloors']\n",
    "        kind = row['BuildingType']\n",
    "        standard = row['Standard']\n",
    "        # center = Location(\n",
    "        #     lat=row['lat'],\n",
    "        #     lng=row['lon'],\n",
    "        # )\n",
    "        # county = row['City']\n",
    "\n",
    "        return Building(\n",
    "            identifier=identifier,\n",
    "            centroid=centroid,\n",
    "            footprint=footprint,\n",
    "            state=state,\n",
    "            volume=volume,\n",
    "            area=area,\n",
    "            height=height,\n",
    "            floors=floors,\n",
    "            kind=kind,\n",
    "            standard=standard,\n",
    "            # center=center,\n",
    "            # county=county,\n",
    "        )\n",
    "\n",
    "    @auto.functools.cached_property\n",
    "    def url(building: Building, /) -> str:\n",
    "        return (\n",
    "            f'http://maps.google.com/maps'\n",
    "            f'?z=12'\n",
    "            f'&t=k'\n",
    "            f'&q=loc:{building.centroid.lat}+{building.centroid.lng}'\n",
    "        )\n",
    "\n",
    "    @auto.functools.cached_property\n",
    "    def bounds(building: Building, /) -> Bounds:\n",
    "        n = e = float('-inf')\n",
    "        s = w = float('inf')\n",
    "\n",
    "        for location in building.footprint:\n",
    "            n = max(n, location.lat)\n",
    "            s = min(s, location.lat)\n",
    "            w = min(w, location.lng)\n",
    "            e = max(e, location.lng)\n",
    "\n",
    "        return Bounds(\n",
    "            sw=Location(lng=w, lat=s),\n",
    "            ne=Location(lng=e, lat=n),\n",
    "        )\n",
    "\n",
    "    # @auto.functools.cached_property\n",
    "    @property\n",
    "    def osm(building: Building, /) -> dict[str, list[dict[str, list[str]]]]:\n",
    "        root = config.app.things[building.county]\n",
    "        path = root / 'ModelsOrig' / f'{building.identifier}' / f'{building.identifier}.osm'\n",
    "        with path.open('r') as f:\n",
    "            return Thing.parse(f.read())\n",
    "\n",
    "    # @auto.functools.cached_property\n",
    "    @property\n",
    "    def idf(building: Building, /) -> dict[str, list[dict[str, list[str]]]]:\n",
    "        root = config.app.things[building.county]\n",
    "        path = root / 'ModelsOrig' / f'{building.identifier}' / f'{building.identifier}.idf'\n",
    "        with path.open('r') as f:\n",
    "            return Thing.parse(f.read())\n"
   ]
  },
  {
   "cell_type": "markdown",
   "metadata": {},
   "source": [
    "## Buildings"
   ]
  },
  {
   "cell_type": "code",
   "execution_count": 10,
   "metadata": {},
   "outputs": [],
   "source": [
    "#@title Buildings\n",
    "class Buildings(auto.collections.UserList[Building]):\n",
    "    @classmethod\n",
    "    def parse(Buildings, fileobj, /, nrows=None):\n",
    "        df = auto.pd.read_csv(\n",
    "            fileobj,\n",
    "            nrows=nrows,\n",
    "        )\n",
    "\n",
    "        buildings = Buildings()\n",
    "        for _, row in auto.tqdm.notebook.tqdm(df.iterrows(), total=len(df)):\n",
    "            buildings.append(Building.parse(row))\n",
    "\n",
    "        return buildings\n",
    "\n",
    "    @auto.functools.cached_property\n",
    "    def knox(buildings_, /):\n",
    "        buildings = Buildings()\n",
    "        for building in buildings_:\n",
    "            if building.county == 'Knox':\n",
    "                buildings.append(building)\n",
    "\n",
    "        return buildings\n",
    "\n",
    "    @auto.functools.cached_property\n",
    "    def henderson(buildings_, /):\n",
    "        buildings = Buildings()\n",
    "        for building in buildings_:\n",
    "            if building.county == 'Henderson':\n",
    "                buildings.append(building)\n",
    "\n",
    "        return buildings\n",
    "\n",
    "    @auto.functools.cached_property\n",
    "    def bounds(buildings: Buildings, /) -> Bounds:\n",
    "        n = e = float('-inf')\n",
    "        s = w = float('inf')\n",
    "\n",
    "        for building in buildings:\n",
    "            bounds = building.bounds()\n",
    "            n = max(n, bounds.ne.lat)\n",
    "            s = min(s, bounds.sw.lat)\n",
    "            w = min(w, bounds.sw.lng)\n",
    "            e = max(e, bounds.ne.lng)\n",
    "\n",
    "        return Bounds(\n",
    "            sw=Location(lng=w, lat=s),\n",
    "            ne=Location(lng=e, lat=n),\n",
    "        )\n"
   ]
  },
  {
   "cell_type": "markdown",
   "metadata": {},
   "source": [
    "## Testing"
   ]
  },
  {
   "cell_type": "code",
   "execution_count": 11,
   "metadata": {},
   "outputs": [
    {
     "name": "stdout",
     "output_type": "stream",
     "text": [
      "total 0\n",
      "drwxrwxr-x 1 raustin9 raustin9 111436 Oct  2 23:35 Counties_IDF\n",
      "drwxrwxr-x 1 raustin9 raustin9 111436 Oct  3 10:05 Counties_OSM\n",
      "drwxrwxr-x 1 raustin9 raustin9    612 Oct  2 17:26 MAv1_CSVS\n"
     ]
    },
    {
     "name": "stdout",
     "output_type": "stream",
     "text": [
      "-rw-r--r-- 1 raustin9 raustin9 31875690 Oct  2 17:17 /mnt/seenas2/data/model-america/data/MAv1_CSVS/AK.csv\n"
     ]
    }
   ],
   "source": [
    "def scope():\n",
    "    !ls -l {config.app.datadir}\n",
    "\n",
    "    !ls -l {config.app.buildings}\n",
    "\n",
    "/scope"
   ]
  },
  {
   "cell_type": "code",
   "execution_count": 12,
   "metadata": {},
   "outputs": [
    {
     "data": {
      "application/vnd.jupyter.widget-view+json": {
       "model_id": "1c963e84d98c42e8bea252fce2fe0443",
       "version_major": 2,
       "version_minor": 0
      },
      "text/plain": [
       "  0%|          | 0/110299 [00:00<?, ?it/s]"
      ]
     },
     "metadata": {},
     "output_type": "display_data"
    },
    {
     "name": "stdout",
     "output_type": "stream",
     "text": [
      "110299\n"
     ]
    }
   ],
   "source": [
    "# buildings = Buildings.parse(config.app.buildings)\n",
    "# /print len(buildings)"
   ]
  },
  {
   "cell_type": "code",
   "execution_count": 12,
   "metadata": {},
   "outputs": [
    {
     "data": {
      "application/vnd.jupyter.widget-view+json": {
       "model_id": "844babfecc17423387c5b889fcc781f5",
       "version_major": 2,
       "version_minor": 0
      },
      "text/plain": [
       "  0%|          | 0/10 [00:00<?, ?it/s]"
      ]
     },
     "metadata": {},
     "output_type": "display_data"
    },
    {
     "name": "stdout",
     "output_type": "stream",
     "text": [
      "10\n"
     ]
    }
   ],
   "source": [
    "buildings = Buildings.parse(config.app.buildings, nrows=10)\n",
    "/print len(buildings)"
   ]
  },
  {
   "cell_type": "markdown",
   "metadata": {},
   "source": [
    "### look"
   ]
  },
  {
   "cell_type": "code",
   "execution_count": 14,
   "metadata": {},
   "outputs": [
    {
     "name": "stdout",
     "output_type": "stream",
     "text": [
      "Location(lat=61.25598322009571, lng=-150.02458711483254)\n",
      "Location(lat=61.456785499999995, lng=-149.7233445)\n",
      "Location(lat=61.458337967709284, lng=-149.71922760876606)\n",
      "Location(lat=61.25204267682887, lng=-149.96062806058237)\n",
      "Location(lat=61.357316024000006, lng=-149.89366773866664)\n",
      "Location(lat=61.24774851385063, lng=-150.03094025225647)\n",
      "Location(lat=61.246843, lng=-149.971444)\n",
      "Location(lat=61.247634000000005, lng=-149.989395)\n",
      "Location(lat=61.307521289115655, lng=-149.91605287515006)\n",
      "Location(lat=61.458833999999996, lng=-149.72715)\n"
     ]
    }
   ],
   "source": [
    "def scope():\n",
    "    def scope():\n",
    "        for building in buildings:\n",
    "            print(building.centroid)\n",
    "\n",
    "    scope()\n",
    "\n",
    "/scope"
   ]
  },
  {
   "cell_type": "code",
   "execution_count": 15,
   "metadata": {},
   "outputs": [
    {
     "data": {
      "application/vnd.jupyter.widget-view+json": {
       "model_id": "57d8d6aab60946f8b681eb791ea4f270",
       "version_major": 2,
       "version_minor": 0
      },
      "text/plain": [
       "0building [00:00, ?building/s]"
      ]
     },
     "metadata": {},
     "output_type": "display_data"
    },
    {
     "data": {
      "application/vnd.jupyter.widget-view+json": {
       "model_id": "09e62e8615614d639683c1d05bb9dd06",
       "version_major": 2,
       "version_minor": 0
      },
      "text/plain": [
       "0error [00:00, ?error/s]"
      ]
     },
     "metadata": {},
     "output_type": "display_data"
    }
   ],
   "source": [
    "#@title save\n",
    "def scope():\n",
    "    # path = auto.pathlib.Path('/mnt/data') / 'buildings.zip'\n",
    "    # if path.exists():\n",
    "    #     path.unlink()\n",
    "\n",
    "    # with auto.zipfile.ZipFile(path, 'w', compression=auto.zipfile.ZIP_DEFLATED) as arc:\n",
    "    #     root = auto.zipfile.Path(arc)\n",
    "\n",
    "    root = auto.pathlib.Path('/mnt/seenas2/data') / 'ct-buildings' / f'{config.app.state}'\n",
    "    # root = auto.pathlib.Path('/mnt/data') / 'buildings'\n",
    "    root.mkdir(exist_ok=True)\n",
    "\n",
    "    with auto.contextlib.ExitStack() as stack:\n",
    "        pbar = stack.enter_context( auto.tqdm.auto.tqdm(unit='building') )\n",
    "        ebar = stack.enter_context( auto.tqdm.auto.tqdm(unit='error') )\n",
    "\n",
    "        pbar.reset(total=len(buildings))\n",
    "        for building in buildings:\n",
    "            pbar.update()\n",
    "\n",
    "            # path = root / f'{building.identifier}' / 'osm.json.gz'\n",
    "            # path.parent.mkdir(exist_ok=True)\n",
    "            # if not path.exists():\n",
    "            #     try:\n",
    "            #         osm = building.osm\n",
    "            #     except KeyboardInterrupt:\n",
    "            #         raise\n",
    "            #     except:\n",
    "            #         ebar.update()\n",
    "            #         pass\n",
    "            #     else:\n",
    "            #         with auto.gzip.open(path, 'wb') as f:\n",
    "            #             with auto.io.TextIOWrapper(f, encoding='utf-8') as f:\n",
    "            #                 auto.json.dump(osm.sections, f)\n",
    "\n",
    "            # path = root / f'{building.identifier}' / 'idf.json.gz'\n",
    "            # path.parent.mkdir(exist_ok=True)\n",
    "\n",
    "            # if path.exists() and path.stat().st_size < 1000:\n",
    "            #     path.unlink()\n",
    "\n",
    "            # if not path.exists():\n",
    "            #     try:\n",
    "            #         idf = building.idf\n",
    "            #     except KeyboardInterrupt:\n",
    "            #         raise\n",
    "            #     except:\n",
    "            #         ebar.update()\n",
    "            #         pass\n",
    "            #     else:\n",
    "            #         with auto.gzip.open(path, 'wb') as f:\n",
    "            #             with auto.io.TextIOWrapper(f, encoding='utf-8') as f:\n",
    "            #                 auto.json.dump(idf.sections, f)\n",
    "\n",
    "            path = root / f'{building.identifier}' / 'building.json'\n",
    "            path.parent.mkdir(exist_ok=True)\n",
    "            if not path.exists():\n",
    "                with path.open('w') as f:\n",
    "                    f.write(auto.json.dumps({\n",
    "                        'identifier': building.identifier,\n",
    "                        'centroid': {\n",
    "                            'lat': building.centroid.lat,\n",
    "                            'lng': building.centroid.lng,\n",
    "                        },\n",
    "                        'footprint': [\n",
    "                            {\n",
    "                                'lat': p.lat,\n",
    "                                'lng': p.lng,\n",
    "                            }\n",
    "                            for p in building.footprint\n",
    "                        ],\n",
    "                        'state': building.state,\n",
    "                        'volume': building.volume.m_as(Unit().meter ** 3),\n",
    "                        'area': building.area.m_as(Unit().meter ** 2),\n",
    "                        'height': building.height.m_as(Unit().meter),\n",
    "                        'floors': building.floors,\n",
    "                        'kind': building.kind,\n",
    "                        'standard': building.standard,\n",
    "                        # 'center': {\n",
    "                        #     'lat': building.center.lat,\n",
    "                        #     'lng': building.center.lng,\n",
    "                        # },\n",
    "                        # 'county': building.county,\n",
    "                    }))\n",
    "\n",
    "/scope\n"
   ]
  },
  {
   "cell_type": "markdown",
   "metadata": {},
   "source": [
    "### Graham Scan"
   ]
  },
  {
   "cell_type": "code",
   "execution_count": 16,
   "metadata": {},
   "outputs": [],
   "source": [
    "\n",
    "# Function to compute polar angle relative to pivot point\n",
    "def polar_angle(p0, p1):\n",
    "    return math.atan2(p1[1] - p0[1], p1[0] - p0[0])\n",
    "\n",
    "# Cross product of vectors OA and OB\n",
    "# A positive cross product indicates a left turn, negative indicates a right turn\n",
    "def cross_product(o, a, b):\n",
    "    return (a[0] - o[0]) * (b[1] - o[1]) - (a[1] - o[1]) * (b[0] - o[0])\n",
    "\n",
    "def graham_scan(points):\n",
    "    # Find the point with the lowest y-coordinate\n",
    "    points = sorted(points, key=lambda p: (p[1], p[0]))\n",
    "    pivot = points[0]\n",
    "\n",
    "    # Sort points by polar angle with respect to pivot\n",
    "    sorted_points = sorted(points[1:], key=lambda p: (polar_angle(pivot, p), -p[1], p[0]))\n",
    "\n",
    "    # Build the convex hull\n",
    "    hull = [pivot]\n",
    "    for point in sorted_points:\n",
    "        while len(hull) > 1 and cross_product(hull[-2], hull[-1], point) <= 0:\n",
    "            hull.pop()  # Remove point if it makes a right turn\n",
    "        hull.append(point)\n",
    "\n",
    "    return hull"
   ]
  },
  {
   "cell_type": "markdown",
   "metadata": {},
   "source": [
    "## JSON -> Geometry"
   ]
  },
  {
   "cell_type": "code",
   "execution_count": 21,
   "metadata": {},
   "outputs": [
    {
     "data": {
      "application/vnd.jupyter.widget-view+json": {
       "model_id": "d00432bdca3346adb986e2164c77150a",
       "version_major": 2,
       "version_minor": 0
      },
      "text/plain": [
       "  0%|          | 0/110299 [00:00<?, ?it/s]"
      ]
     },
     "metadata": {},
     "output_type": "display_data"
    }
   ],
   "source": [
    "# Take the JSON and get footprint\n",
    "\n",
    "def scope():\n",
    "    path = f'/mnt/seenas2/data/ct-buildings/{config.app.state}'\n",
    "    dir_list = auto.os.listdir(path)\n",
    "\n",
    "    total_items = len(dir_list)\n",
    "    # print(total_items)\n",
    "    # return\n",
    "    for building in auto.tqdm.auto.tqdm(dir_list):\n",
    "        points = []\n",
    "        building_height = 0\n",
    "        with open(f'{path}/{building}/building.json') as fp:\n",
    "            data = auto.json.load(fp)\n",
    "\n",
    "            # print(f'Building <{building}>')\n",
    "            # print('\\tFootprint:')\n",
    "            for point in data[\"footprint\"]:\n",
    "                # print(f'\\t\\t({point[\"lat\"]}, {point[\"lng\"]})')\n",
    "                x, y, z = Spatial(\n",
    "                    lat=point[\"lat\"],\n",
    "                    lng=point[\"lng\"],\n",
    "                    alt=0\n",
    "                )\n",
    "                points.append(auto.numpy.array([x,y,z]))\n",
    "                # points.append(auto.numpy.array([x * 1000,y * 1000,z * 1000]))\n",
    "                # points.append((x,y,z))\n",
    "                # print(\n",
    "                #     f'\\t\\t> Spatial: ({x}, {y}, {z})'\n",
    "                # )\n",
    "            # print(f'\\tHeight: {data[\"height\"]}')\n",
    "            building_height = float(data[\"height\"])\n",
    "            # print()\n",
    "        \n",
    "        points = auto.numpy.array(points)\n",
    "        # Get top face of building\n",
    "        def normalize_vector(point):\n",
    "            # Convert point to a numpy array for easy calculations\n",
    "            vector = auto.numpy.array(point)\n",
    "    \n",
    "            # Calculate the magnitude of the vector\n",
    "            magnitude = auto.numpy.linalg.norm(vector)\n",
    "    \n",
    "            # Check if the magnitude is not zero to avoid division by zero\n",
    "            if magnitude == 0:\n",
    "                raise ValueError(\"Cannot normalize a zero vector.\")\n",
    "    \n",
    "            # Normalize the vector\n",
    "            normalized_vector = vector / magnitude\n",
    "            return normalized_vector\n",
    "        \n",
    "        normal = normalize_vector(points[0])\n",
    "        vertical = normal * building_height\n",
    "        # print(f'Normal {normal}. Height: {building_height} -> Vertical: {vertical}')\n",
    "\n",
    "        # find points for top of building\n",
    "        roof_verts = []\n",
    "        # print(\"Points\")\n",
    "        for p in points:\n",
    "            # print(p)\n",
    "            roof_verts.append(p + vertical)\n",
    "\n",
    "\n",
    "        roof_verts = auto.numpy.array(roof_verts)\n",
    "\n",
    "        faces = []\n",
    "        num_vertices = len(points)\n",
    "        for i in range(num_vertices):\n",
    "            next_index = (i+1) % num_vertices\n",
    "            faces.append([i, next_index, num_vertices + next_index])  # Triangle 1\n",
    "            faces.append([i, num_vertices + next_index, num_vertices + i])  # Triangle 2\n",
    "\n",
    "        vertices = auto.numpy.vstack((points, roof_verts))\n",
    "        mesh = auto.trimesh.Trimesh(vertices=vertices, faces=faces)\n",
    "        # mesh.export('building.obj')\n",
    "\n",
    "        # print(mesh.vertices)\n",
    "        verts = auto.numpy.array(mesh.vertices).flatten()\n",
    "        indices = auto.numpy.array(mesh.faces).flatten()\n",
    "        # for i in range(len(indices)):\n",
    "        #     print(f'{indices[i]}  |  ', end='')\n",
    "        #     if (i+1) % 3 == 0:\n",
    "        #         print()\n",
    "        # light = auto.trimesh.scene.lighting.DirectionalLight()\n",
    "        # light.intensity = 10\n",
    "        # scene = auto.trimesh.Scene([mesh], lights=[light])\n",
    "        # scene.show(viewer='notebook')\n",
    "\n",
    "        # all_vertices = auto.numpy.concatenate([all_vertices, auto.numpy.array(mesh.vertices).flatten()])\n",
    "        # all_indices = auto.numpy.concatenate([all_indices, auto.numpy.array(mesh.faces).flatten()])\n",
    "\n",
    "        with open(f'/mnt/seenas2/data/ct-buildings/gen/{config.app.state}/{building}.mesh.vec3f[].vertex.position.bin', 'wb') as f:\n",
    "            f.write(verts.tobytes())\n",
    "        with open(f'/mnt/seenas2/data/ct-buildings/gen/{config.app.state}/{building}.mesh.vec3ui[].vertex.index.bin', 'wb') as f:\n",
    "            f.write(indices.tobytes())\n",
    "\n",
    "        # break\n",
    "\n",
    "\n",
    "\n",
    "\n",
    "/scope"
   ]
  },
  {
   "cell_type": "code",
   "execution_count": 18,
   "metadata": {},
   "outputs": [],
   "source": [
    "        # mesh.export('building.obj')\n",
    "        # points = auto.numpy.concatenate([points, roof_verts])\n",
    "        # print(\"After\")\n",
    "        # for p in points:\n",
    "        #     print(p)\n",
    "        \n",
    "        # # Display faces for top and bottom of building\n",
    "        # fig = auto.matplotlib.pyplot.figure()\n",
    "        # ax = fig.add_subplot(111, projection='3d')\n",
    "        \n",
    "        # tri = auto.scipy.spatial.Delaunay(points)\n",
    "        # # tri = auto.scipy.spatial.Delaunay(points[:, :2])\n",
    "\n",
    "        # for simplex in tri.simplices:\n",
    "        #     triangle = points[simplex]  # Get the vertices of each triangle\n",
    "        #     poly = auto.mpl_toolkits.mplot3d.art3d.Poly3DCollection([triangle], alpha=0.5, edgecolor='k', facecolor='green')\n",
    "        #     ax.add_collection3d(poly)\n",
    "        \n",
    "        # # top = auto.scipy.spatial.Delaunay(roof_verts[:, :2])\n",
    "        # # roof_faces = points[top.simplices]\n",
    "        \n",
    "        \n",
    "        # # poly = auto.mpl_toolkits.mplot3d.art3d.Poly3DCollection(faces, linewidth=1, alpha=0.5, facecolor='green', edgecolor='k')\n",
    "        # # roof = auto.mpl_toolkits.mplot3d.art3d.Poly3DCollection(roof_faces, linewidth=1, alpha=0.5)\n",
    "        \n",
    "        # # ax.add_collection3d(poly)\n",
    "        # # ax.add_collection3d(roof)\n",
    "       \n",
    "        # ax.set_xlim([points[:, 0].min(), points[:, 0].max()])\n",
    "        # ax.set_ylim([points[:, 1].min(), points[:, 1].max()])\n",
    "        # ax.set_zlim([points[:, 2].min(), points[:, 2].max()])\n",
    "        # # ax.set_xlim([points[:, 0].min() - 0.005, points[:, 0].max() + 0.005])\n",
    "        # # ax.set_ylim([points[:, 1].min() - 0.005, points[:, 1].max() + 0.005])\n",
    "        # # ax.set_zlim([points[:, 2].min() - 0.005, points[:, 2].max() + 0.005])\n",
    "        \n",
    "        # ax.set_xlabel('X')\n",
    "        # ax.set_ylabel('Y')\n",
    "        # ax.set_zlabel('Z')"
   ]
  }
 ],
 "metadata": {
  "kernelspec": {
   "display_name": "Python 3",
   "language": "python",
   "name": "python3"
  },
  "language_info": {
   "codemirror_mode": {
    "name": "ipython",
    "version": 3
   },
   "file_extension": ".py",
   "mimetype": "text/x-python",
   "name": "python",
   "nbconvert_exporter": "python",
   "pygments_lexer": "ipython3",
   "version": "3.10.12"
  }
 },
 "nbformat": 4,
 "nbformat_minor": 2
}
